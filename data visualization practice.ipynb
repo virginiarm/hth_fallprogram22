{
 "cells": [
  {
   "cell_type": "code",
   "execution_count": 2,
   "id": "8035221b",
   "metadata": {},
   "outputs": [
    {
     "ename": "ModuleNotFoundError",
     "evalue": "No module named 'seaborn'",
     "output_type": "error",
     "traceback": [
      "\u001b[0;31m---------------------------------------------------------------------------\u001b[0m",
      "\u001b[0;31mModuleNotFoundError\u001b[0m                       Traceback (most recent call last)",
      "Cell \u001b[0;32mIn [2], line 2\u001b[0m\n\u001b[1;32m      1\u001b[0m \u001b[38;5;28;01mimport\u001b[39;00m \u001b[38;5;21;01mpandas\u001b[39;00m\n\u001b[0;32m----> 2\u001b[0m \u001b[38;5;28;01mimport\u001b[39;00m \u001b[38;5;21;01mseaborn\u001b[39;00m\n\u001b[1;32m      3\u001b[0m \u001b[38;5;28;01mimport\u001b[39;00m \u001b[38;5;21;01mmatplitlib\u001b[39;00m\u001b[38;5;21;01m.\u001b[39;00m\u001b[38;5;21;01mpylot\u001b[39;00m \u001b[38;5;28;01mas\u001b[39;00m \u001b[38;5;21;01mplt\u001b[39;00m\n\u001b[1;32m      4\u001b[0m titanic_data \u001b[38;5;241m=\u001b[39m pandas\u001b[38;5;241m.\u001b[39mread_csv(\u001b[38;5;124m'\u001b[39m\u001b[38;5;124mtitanic.csv\u001b[39m\u001b[38;5;124m'\u001b[39m)\n",
      "\u001b[0;31mModuleNotFoundError\u001b[0m: No module named 'seaborn'"
     ]
    }
   ],
   "source": [
    "import pandas\n",
    "import seaborn\n",
    "import matplitlib.pylot as plt\n",
    "titanic_data = pandas.read_csv('titanic.csv')\n",
    "pandas.options.display.max_columns = None\n",
    "pandas.options.display.max_rows = None\n",
    "\n",
    "titanic_data "
   ]
  },
  {
   "cell_type": "code",
   "execution_count": null,
   "id": "6098c3bf",
   "metadata": {},
   "outputs": [],
   "source": [
    "# Step 1: Create a heatmap showing the correlation between the following features: survival, pclass, sex, age, and fare \n",
    "corr_heatmap = titanic_data[\"Survived\",\"Pclass\", \"Sex\",\"Age\",\"Fare\"]]\n",
    "seaborn.heatmap(q1_data.corr(), annot = True, cmap ='rocket')\n",
    "corr_heatmap=seaborn.heatmap()"
   ]
  },
  {
   "cell_type": "code",
   "execution_count": null,
   "id": "e38a244b",
   "metadata": {},
   "outputs": [],
   "source": [
    "\n",
    "''' \n",
    "The best way to complete this activity is to copy the code in this file into a jupyter notebook file you create. This will also you to see your visualizations easier. Once you have finished creating your visuals copy your code back into this file and submit it to Replit. Don't forget to also upload your new code to Github! \n",
    "'''\n",
    "\n",
    "# Step 1: Create a heatmap showing the correlation between the following features: survival, pclass, sex, age, and fare \n",
    "corr_heatmap = \n",
    "\n",
    "# Step 2: Create a bar graph that illustrates how many passengers fell into each of these age ranges: 0 - 16, 17 - 25, 26 -40, 41 - 59, 60 or older\n",
    "age_group_chart = \n",
    "\n",
    "# Step 3: Create a line graph showing the average survival percentage of each of the previous age groups\n",
    "survival_age_pers = \n",
    "\n",
    "# Step 4: Create a pie chart that shows the percentage of survivors that were male and the percentage of survivors that were female\n",
    "survivors = \n",
    "\n",
    "# Step 5: Create a histogram that shows the distribution of passengers between the three embarking locations: C (Cherbourg), Q (Queenstown), S (Southampton)\n",
    "titanic_description = \n"
   ]
  },
  {
   "cell_type": "code",
   "execution_count": null,
   "id": "ab7643b1",
   "metadata": {},
   "outputs": [],
   "source": []
  }
 ],
 "metadata": {
  "kernelspec": {
   "display_name": "Python 3 (ipykernel)",
   "language": "python",
   "name": "python3"
  },
  "language_info": {
   "codemirror_mode": {
    "name": "ipython",
    "version": 3
   },
   "file_extension": ".py",
   "mimetype": "text/x-python",
   "name": "python",
   "nbconvert_exporter": "python",
   "pygments_lexer": "ipython3",
   "version": "3.10.0"
  }
 },
 "nbformat": 4,
 "nbformat_minor": 5
}
