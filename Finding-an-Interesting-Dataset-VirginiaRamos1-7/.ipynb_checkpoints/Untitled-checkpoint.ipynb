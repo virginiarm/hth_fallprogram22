{
 "cells": [
  {
   "cell_type": "code",
   "execution_count": 4,
   "id": "0fbffea9",
   "metadata": {},
   "outputs": [
    {
     "ename": "SyntaxError",
     "evalue": "unmatched ']' (3381787352.py, line 10)",
     "output_type": "error",
     "traceback": [
      "\u001b[0;36m  Cell \u001b[0;32mIn [4], line 10\u001b[0;36m\u001b[0m\n\u001b[0;31m    corr_heatmap = titanic_data[\"Survived\",\"Pclass\", \"Sex\",\"Age\",\"Fare\"]]\u001b[0m\n\u001b[0m                                                                        ^\u001b[0m\n\u001b[0;31mSyntaxError\u001b[0m\u001b[0;31m:\u001b[0m unmatched ']'\n"
     ]
    }
   ],
   "source": [
    "import pandas\n",
    "import seaborn\n",
    "import matplotlib.pyplot as plt\n",
    "\n",
    "''' \n",
    "The best way to complete this activity is to copy the code in this file into a jupyter notebook file you create. This will also you to see your visualizations easier. Once you have finished creating your visuals copy your code back into this file and submit it to Replit. Don't forget to also upload your new code to Github! \n",
    "'''\n",
    "\n",
    "# Step 1: Create a heatmap showing the correlation between the following features: survival, pclass, sex, age, and fare \n",
    "corr_heatmap = titanic_data[\"Survived\",\"Pclass\", \"Sex\",\"Age\",\"Fare\"]]\n",
    "seaborn.heatmap(q1_data.corr(), annot = True, cmap ='rocket')\n",
    "corr_heatmap=seaborn.heatmap()"
   ]
  },
  {
   "cell_type": "code",
   "execution_count": 3,
   "id": "050adceb",
   "metadata": {},
   "outputs": [
    {
     "ename": "SyntaxError",
     "evalue": "invalid syntax (3456875573.py, line 2)",
     "output_type": "error",
     "traceback": [
      "\u001b[0;36m  Cell \u001b[0;32mIn [3], line 2\u001b[0;36m\u001b[0m\n\u001b[0;31m    age_group_chart =\u001b[0m\n\u001b[0m                      ^\u001b[0m\n\u001b[0;31mSyntaxError\u001b[0m\u001b[0;31m:\u001b[0m invalid syntax\n"
     ]
    }
   ],
   "source": [
    "\n",
    "\n",
    "# Step 2: Create a bar graph that illustrates how many passengers fell into each of these age ranges: 0 - 16, 17 - 25, 26 -40, 41 - 59, 60 or older\n",
    "age_group_chart = \n",
    "\n",
    "# Step 3: Create a line graph showing the average survival percentage of each of the previous age groups\n",
    "survival_age_pers = \n",
    "\n",
    "# Step 4: Create a pie chart that shows the percentage of survivors that were male and the percentage of survivors that were female\n",
    "survivors = \n",
    "\n",
    "# Step 5: Create a histogram that shows the distribution of passengers between the three embarking locations: C (Cherbourg), Q (Queenstown), S (Southampton)\n",
    "titanic_description = "
   ]
  },
  {
   "cell_type": "code",
   "execution_count": null,
   "id": "c6e2ca1a",
   "metadata": {},
   "outputs": [],
   "source": []
  },
  {
   "cell_type": "code",
   "execution_count": null,
   "id": "2248bef1",
   "metadata": {},
   "outputs": [],
   "source": []
  }
 ],
 "metadata": {
  "kernelspec": {
   "display_name": "Python 3 (ipykernel)",
   "language": "python",
   "name": "python3"
  },
  "language_info": {
   "codemirror_mode": {
    "name": "ipython",
    "version": 3
   },
   "file_extension": ".py",
   "mimetype": "text/x-python",
   "name": "python",
   "nbconvert_exporter": "python",
   "pygments_lexer": "ipython3",
   "version": "3.10.0"
  }
 },
 "nbformat": 4,
 "nbformat_minor": 5
}
